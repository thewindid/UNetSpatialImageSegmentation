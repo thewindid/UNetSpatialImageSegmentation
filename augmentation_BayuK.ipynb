{
 "cells": [
  {
   "cell_type": "markdown",
   "metadata": {},
   "source": [
    "Bayu Kurniawan\n",
    "21/480093/GE/09662"
   ]
  },
  {
   "cell_type": "markdown",
   "metadata": {},
   "source": [
    "IMPORT LIBRARY"
   ]
  },
  {
   "cell_type": "code",
   "execution_count": 1,
   "metadata": {},
   "outputs": [],
   "source": [
    "import albumentations as A\n",
    "import rasterio\n",
    "import glob\n",
    "import os\n",
    "import numpy as np"
   ]
  },
  {
   "cell_type": "markdown",
   "metadata": {},
   "source": [
    "MENDEFINISIKAN TRANSFORMASI AUGMENTASI YANG AKAN DITERAPKAN PADA DATASET (GAMBAR)"
   ]
  },
  {
   "cell_type": "code",
   "execution_count": 2,
   "metadata": {},
   "outputs": [],
   "source": [
    "transform = A.Compose([\n",
    "    A.HorizontalFlip(p=0.5),\n",
    "    A.VerticalFlip(p=0.5),\n",
    "    A.RandomBrightnessContrast(p=0.5),\n",
    "    A.RandomRotate90(p=0.5),\n",
    "    A.ShiftScaleRotate(p=0.5)\n",
    "])"
   ]
  },
  {
   "cell_type": "markdown",
   "metadata": {},
   "source": [
    "MENDEFINISIKAN LOKASI ATAU DIREKTORI DATASET YANG AKAN DILAKUKAN AUGMENTASI"
   ]
  },
  {
   "cell_type": "code",
   "execution_count": 3,
   "metadata": {},
   "outputs": [
    {
     "name": "stdout",
     "output_type": "stream",
     "text": [
      "1086\n",
      "1086\n"
     ]
    }
   ],
   "source": [
    "Image_Drive = \"./Data/image3\"\n",
    "Label_Drive = \"./Data/label3\"\n",
    "\n",
    "image_paths = glob.glob(os.path.join(Image_Drive, \"*.tif\"))\n",
    "label_paths = glob.glob(os.path.join(Label_Drive, \"*.tif\"))\n",
    "\n",
    "image_size = len(image_paths)\n",
    "label_size = len(label_paths)\n",
    "\n",
    "print(image_size)\n",
    "print(label_size)"
   ]
  },
  {
   "cell_type": "code",
   "execution_count": 4,
   "metadata": {},
   "outputs": [
    {
     "name": "stdout",
     "output_type": "stream",
     "text": [
      "1086\n",
      "1086\n"
     ]
    }
   ],
   "source": [
    "image_list = []\n",
    "label_list = []\n",
    "\n",
    "for img_path, label_path in zip(image_paths, label_paths):\n",
    "    with rasterio.open(img_path) as img_file:\n",
    "        img_array = img_file.read()\n",
    "        img_array = np.moveaxis(img_array, 0, 2)  # Move channel to the last dimension\n",
    "        image_list.append((img_path, img_array))\n",
    "\n",
    "    with rasterio.open(label_path) as label_file:\n",
    "        label_array = label_file.read()\n",
    "        label_array = np.moveaxis(label_array, 0, 2)  # Move channel to the last dimension\n",
    "        label_list.append((label_path, label_array))\n",
    "\n",
    "print(len(image_list))\n",
    "print(len(label_list))"
   ]
  },
  {
   "cell_type": "markdown",
   "metadata": {},
   "source": [
    "MELAKUKAN TRANSFORMASI AUGMENTASI PADA DATASET (GAMBAR) KEMUDIAN MENYIMPANNYA PADA FOLDER OUTPUT YANG TELAH DITENTUKAN"
   ]
  },
  {
   "cell_type": "code",
   "execution_count": 5,
   "metadata": {},
   "outputs": [
    {
     "name": "stderr",
     "output_type": "stream",
     "text": [
      "c:\\Users\\ASUS\\anaconda3\\Lib\\site-packages\\rasterio\\__init__.py:327: NotGeoreferencedWarning: Dataset has no geotransform, gcps, or rpcs. The identity matrix will be returned.\n",
      "  dataset = writer(\n"
     ]
    },
    {
     "name": "stdout",
     "output_type": "stream",
     "text": [
      "Transformed images and masks have been saved.\n"
     ]
    }
   ],
   "source": [
    "Output_Image_Drive = \"./Data/transformed_images\"\n",
    "Output_Label_Drive = \"./Data/transformed_labels\"\n",
    "\n",
    "# Apply the transformations to each image-mask pair individually\n",
    "for (img_path, img), (label_path, mask) in zip(image_list, label_list):\n",
    "    transformed = transform(image=img, mask=mask)\n",
    "    transformed_img = transformed['image']\n",
    "    transformed_mask = transformed['mask']\n",
    "    \n",
    "    # Move channel axis back to the first position for saving with rasterio\n",
    "    transformed_img = np.moveaxis(transformed_img, 2, 0)\n",
    "    transformed_mask = np.moveaxis(transformed_mask, 2, 0)\n",
    "    \n",
    "    # Save transformed image\n",
    "    img_output_path = os.path.join(Output_Image_Drive, \"augmented_{}\".format(os.path.basename(img_path)))\n",
    "    with rasterio.open(\n",
    "        img_output_path, 'w',\n",
    "        driver='GTiff',\n",
    "        height=transformed_img.shape[1],\n",
    "        width=transformed_img.shape[2],\n",
    "        count=transformed_img.shape[0],\n",
    "        dtype=transformed_img.dtype\n",
    "    ) as dst:\n",
    "        dst.write(transformed_img)\n",
    "    \n",
    "    # Save transformed mask\n",
    "    mask_output_path = os.path.join(Output_Label_Drive, \"augmented_{}\".format(os.path.basename(label_path)))\n",
    "    with rasterio.open(\n",
    "        mask_output_path, 'w',\n",
    "        driver='GTiff',\n",
    "        height=transformed_mask.shape[1],\n",
    "        width=transformed_mask.shape[2],\n",
    "        count=transformed_mask.shape[0],\n",
    "        dtype=transformed_mask.dtype\n",
    "    ) as dst:\n",
    "        dst.write(transformed_mask)\n",
    "\n",
    "print(f\"Transformed images and masks have been saved.\")"
   ]
  }
 ],
 "metadata": {
  "kernelspec": {
   "display_name": "base",
   "language": "python",
   "name": "python3"
  },
  "language_info": {
   "codemirror_mode": {
    "name": "ipython",
    "version": 3
   },
   "file_extension": ".py",
   "mimetype": "text/x-python",
   "name": "python",
   "nbconvert_exporter": "python",
   "pygments_lexer": "ipython3",
   "version": "3.11.7"
  }
 },
 "nbformat": 4,
 "nbformat_minor": 2
}
